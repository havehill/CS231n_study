{
  "cells": [
    {
      "cell_type": "code",
      "execution_count": 12,
      "id": "161a3aa0",
      "metadata": {
        "colab": {
          "base_uri": "https://localhost:8080/"
        },
        "id": "161a3aa0",
        "outputId": "a15b7a6b-a2f3-42aa-932d-29b195956143"
      },
      "outputs": [
        {
          "output_type": "stream",
          "name": "stdout",
          "text": [
            "Drive already mounted at /content/drive; to attempt to forcibly remount, call drive.mount(\"/content/drive\", force_remount=True).\n",
            "/content/drive/My Drive/cs231n/assignments/assignment1/cs231n/datasets\n",
            "/content/drive/My Drive/cs231n/assignments/assignment1\n"
          ]
        }
      ],
      "source": [
        "# This mounts your Google Drive to the Colab VM.\n",
        "from google.colab import drive\n",
        "drive.mount('/content/drive')\n",
        "\n",
        "# TODO: Enter the foldername in your Drive where you have saved the unzipped\n",
        "# assignment folder, e.g. 'cs231n/assignments/assignment1/'\n",
        "FOLDERNAME = 'cs231n/assignments/assignment1/'\n",
        "assert FOLDERNAME is not None, \"[!] Enter the foldername.\"\n",
        "\n",
        "# Now that we've mounted your Drive, this ensures that\n",
        "# the Python interpreter of the Colab VM can load\n",
        "# python files from within it.\n",
        "import sys\n",
        "sys.path.append('/content/drive/My Drive/{}'.format(FOLDERNAME))\n",
        "\n",
        "# This downloads the CIFAR-10 dataset to your Drive\n",
        "# if it doesn't already exist.\n",
        "%cd /content/drive/My\\ Drive/$FOLDERNAME/cs231n/datasets/\n",
        "!bash get_datasets.sh\n",
        "%cd /content/drive/My\\ Drive/$FOLDERNAME"
      ]
    },
    {
      "cell_type": "markdown",
      "id": "26fdca1c",
      "metadata": {
        "tags": [
          "pdf-title"
        ],
        "id": "26fdca1c"
      },
      "source": [
        "# Softmax exercise\n",
        "\n",
        "*Complete and hand in this completed worksheet (including its outputs and any supporting code outside of the worksheet) with your assignment submission. For more details see the [assignments page](http://vision.stanford.edu/teaching/cs231n/assignments.html) on the course website.*\n",
        "\n",
        "This exercise is analogous to the SVM exercise. You will:\n",
        "\n",
        "- implement a fully-vectorized **loss function** for the Softmax classifier\n",
        "- implement the fully-vectorized expression for its **analytic gradient**\n",
        "- **check your implementation** with numerical gradient\n",
        "- use a validation set to **tune the learning rate and regularization** strength\n",
        "- **optimize** the loss function with **SGD**\n",
        "- **visualize** the final learned weights\n"
      ]
    },
    {
      "cell_type": "code",
      "execution_count": 13,
      "id": "1f12280f",
      "metadata": {
        "tags": [
          "pdf-ignore"
        ],
        "id": "1f12280f",
        "colab": {
          "base_uri": "https://localhost:8080/"
        },
        "outputId": "756c563d-4eea-47da-dbad-a5f241b14432"
      },
      "outputs": [
        {
          "output_type": "stream",
          "name": "stdout",
          "text": [
            "The autoreload extension is already loaded. To reload it, use:\n",
            "  %reload_ext autoreload\n"
          ]
        }
      ],
      "source": [
        "import random\n",
        "import numpy as np\n",
        "from cs231n.data_utils import load_CIFAR10\n",
        "import matplotlib.pyplot as plt\n",
        "\n",
        "%matplotlib inline\n",
        "plt.rcParams['figure.figsize'] = (10.0, 8.0) # set default size of plots\n",
        "plt.rcParams['image.interpolation'] = 'nearest'\n",
        "plt.rcParams['image.cmap'] = 'gray'\n",
        "\n",
        "# for auto-reloading extenrnal modules\n",
        "# see http://stackoverflow.com/questions/1907993/autoreload-of-modules-in-ipython\n",
        "%load_ext autoreload\n",
        "%autoreload 2"
      ]
    },
    {
      "cell_type": "code",
      "execution_count": 14,
      "id": "ab106c82",
      "metadata": {
        "tags": [
          "pdf-ignore"
        ],
        "id": "ab106c82",
        "colab": {
          "base_uri": "https://localhost:8080/"
        },
        "outputId": "cf2bb5b2-4cd4-49f9-ce73-e8cf64aa33b9"
      },
      "outputs": [
        {
          "output_type": "stream",
          "name": "stdout",
          "text": [
            "Train data shape:  (49000, 3073)\n",
            "Train labels shape:  (49000,)\n",
            "Validation data shape:  (1000, 3073)\n",
            "Validation labels shape:  (1000,)\n",
            "Test data shape:  (1000, 3073)\n",
            "Test labels shape:  (1000,)\n",
            "dev data shape:  (500, 3073)\n",
            "dev labels shape:  (500,)\n"
          ]
        }
      ],
      "source": [
        "def get_CIFAR10_data(num_training=49000, num_validation=1000, num_test=1000, num_dev=500):\n",
        "    \"\"\"\n",
        "    Load the CIFAR-10 dataset from disk and perform preprocessing to prepare\n",
        "    it for the linear classifier. These are the same steps as we used for the\n",
        "    SVM, but condensed to a single function.  \n",
        "    \"\"\"\n",
        "    # Load the raw CIFAR-10 data\n",
        "    cifar10_dir = 'cs231n/datasets/cifar-10-batches-py'\n",
        "    \n",
        "    # Cleaning up variables to prevent loading data multiple times (which may cause memory issue)\n",
        "    try:\n",
        "       del X_train, y_train\n",
        "       del X_test, y_test\n",
        "       print('Clear previously loaded data.')\n",
        "    except:\n",
        "       pass\n",
        "\n",
        "    X_train, y_train, X_test, y_test = load_CIFAR10(cifar10_dir)\n",
        "    \n",
        "    # subsample the data\n",
        "    mask = list(range(num_training, num_training + num_validation))\n",
        "    X_val = X_train[mask]\n",
        "    y_val = y_train[mask]\n",
        "    mask = list(range(num_training))\n",
        "    X_train = X_train[mask]\n",
        "    y_train = y_train[mask]\n",
        "    mask = list(range(num_test))\n",
        "    X_test = X_test[mask]\n",
        "    y_test = y_test[mask]\n",
        "    mask = np.random.choice(num_training, num_dev, replace=False)\n",
        "    X_dev = X_train[mask]\n",
        "    y_dev = y_train[mask]\n",
        "    \n",
        "    # Preprocessing: reshape the image data into rows\n",
        "    X_train = np.reshape(X_train, (X_train.shape[0], -1))\n",
        "    X_val = np.reshape(X_val, (X_val.shape[0], -1))\n",
        "    X_test = np.reshape(X_test, (X_test.shape[0], -1))\n",
        "    X_dev = np.reshape(X_dev, (X_dev.shape[0], -1))\n",
        "    \n",
        "    # Normalize the data: subtract the mean image\n",
        "    mean_image = np.mean(X_train, axis = 0)\n",
        "    X_train -= mean_image\n",
        "    X_val -= mean_image\n",
        "    X_test -= mean_image\n",
        "    X_dev -= mean_image\n",
        "    \n",
        "    # add bias dimension and transform into columns\n",
        "    X_train = np.hstack([X_train, np.ones((X_train.shape[0], 1))])\n",
        "    X_val = np.hstack([X_val, np.ones((X_val.shape[0], 1))])\n",
        "    X_test = np.hstack([X_test, np.ones((X_test.shape[0], 1))])\n",
        "    X_dev = np.hstack([X_dev, np.ones((X_dev.shape[0], 1))])\n",
        "    \n",
        "    return X_train, y_train, X_val, y_val, X_test, y_test, X_dev, y_dev\n",
        "\n",
        "\n",
        "# Invoke the above function to get our data.\n",
        "X_train, y_train, X_val, y_val, X_test, y_test, X_dev, y_dev = get_CIFAR10_data()\n",
        "print('Train data shape: ', X_train.shape)\n",
        "print('Train labels shape: ', y_train.shape)\n",
        "print('Validation data shape: ', X_val.shape)\n",
        "print('Validation labels shape: ', y_val.shape)\n",
        "print('Test data shape: ', X_test.shape)\n",
        "print('Test labels shape: ', y_test.shape)\n",
        "print('dev data shape: ', X_dev.shape)\n",
        "print('dev labels shape: ', y_dev.shape)"
      ]
    },
    {
      "cell_type": "markdown",
      "id": "4721c3cb",
      "metadata": {
        "id": "4721c3cb"
      },
      "source": [
        "## Softmax Classifier\n",
        "\n",
        "Your code for this section will all be written inside `cs231n/classifiers/softmax.py`.\n"
      ]
    },
    {
      "cell_type": "code",
      "execution_count": 15,
      "id": "d42765cd",
      "metadata": {
        "id": "d42765cd",
        "colab": {
          "base_uri": "https://localhost:8080/"
        },
        "outputId": "68109073-0474-4ab2-9545-0cd0b1f31901"
      },
      "outputs": [
        {
          "output_type": "stream",
          "name": "stdout",
          "text": [
            "loss: 2.437708\n",
            "sanity check: 2.302585\n"
          ]
        }
      ],
      "source": [
        "# First implement the naive softmax loss function with nested loops.\n",
        "# Open the file cs231n/classifiers/softmax.py and implement the\n",
        "# softmax_loss_naive function.\n",
        "\n",
        "from cs231n.classifiers.softmax import softmax_loss_naive\n",
        "import time\n",
        "\n",
        "# Generate a random softmax weight matrix and use it to compute the loss.\n",
        "W = np.random.randn(3073, 10) * 0.0001\n",
        "loss, grad = softmax_loss_naive(W, X_dev, y_dev, 0.0)\n",
        "\n",
        "# As a rough sanity check, our loss should be something close to -log(0.1).\n",
        "print('loss: %f' % loss)\n",
        "print('sanity check: %f' % (-np.log(0.1)))"
      ]
    },
    {
      "cell_type": "markdown",
      "id": "6f88764e",
      "metadata": {
        "tags": [
          "pdf-inline"
        ],
        "id": "6f88764e"
      },
      "source": [
        "**Inline Question 1**\n",
        "\n",
        "Why do we expect our loss to be close to -log(0.1)? Explain briefly.**\n",
        "\n",
        "$\\color{blue}{\\textit Your Answer:}$ *Fill this in* \n",
        "\n"
      ]
    },
    {
      "cell_type": "code",
      "execution_count": 16,
      "id": "4c2626ef",
      "metadata": {
        "id": "4c2626ef",
        "colab": {
          "base_uri": "https://localhost:8080/"
        },
        "outputId": "e51ce51e-b89e-4726-ff38-82f9aa6c5c85"
      },
      "outputs": [
        {
          "output_type": "stream",
          "name": "stdout",
          "text": [
            "numerical: 0.336030 analytic: 0.336030, relative error: 1.303139e-07\n",
            "numerical: 1.302332 analytic: 1.302332, relative error: 1.446714e-08\n",
            "numerical: 0.917834 analytic: 0.917834, relative error: 4.338455e-08\n",
            "numerical: -0.357897 analytic: -0.357897, relative error: 2.869489e-07\n",
            "numerical: 1.510216 analytic: 1.510216, relative error: 3.770555e-08\n",
            "numerical: 0.573106 analytic: 0.573105, relative error: 1.290023e-07\n",
            "numerical: 0.260468 analytic: 0.260468, relative error: 4.500384e-08\n",
            "numerical: -3.244289 analytic: -3.244289, relative error: 8.108862e-09\n",
            "numerical: -0.195449 analytic: -0.195449, relative error: 6.285279e-08\n",
            "numerical: 0.152647 analytic: 0.152646, relative error: 2.294987e-07\n",
            "numerical: -0.838783 analytic: -0.838783, relative error: 1.766923e-08\n",
            "numerical: 5.548816 analytic: 5.548816, relative error: 2.271835e-08\n",
            "numerical: 0.278524 analytic: 0.278524, relative error: 1.189206e-08\n",
            "numerical: -2.783391 analytic: -2.783391, relative error: 2.682426e-09\n",
            "numerical: 0.607110 analytic: 0.607110, relative error: 6.285958e-08\n",
            "numerical: -4.277395 analytic: -4.277395, relative error: 6.066820e-09\n",
            "numerical: -2.338766 analytic: -2.338766, relative error: 1.058296e-09\n",
            "numerical: 2.206280 analytic: 2.206281, relative error: 8.293721e-09\n",
            "numerical: -1.264554 analytic: -1.264554, relative error: 1.553399e-09\n",
            "numerical: 1.019813 analytic: 1.019813, relative error: 2.799058e-08\n"
          ]
        }
      ],
      "source": [
        "# Complete the implementation of softmax_loss_naive and implement a (naive)\n",
        "# version of the gradient that uses nested loops.\n",
        "loss, grad = softmax_loss_naive(W, X_dev, y_dev, 0.0)\n",
        "\n",
        "# As we did for the SVM, use numeric gradient checking as a debugging tool.\n",
        "# The numeric gradient should be close to the analytic gradient.\n",
        "from cs231n.gradient_check import grad_check_sparse\n",
        "f = lambda w: softmax_loss_naive(w, X_dev, y_dev, 0.0)[0]\n",
        "grad_numerical = grad_check_sparse(f, W, grad, 10)\n",
        "\n",
        "# similar to SVM case, do another gradient check with regularization\n",
        "loss, grad = softmax_loss_naive(W, X_dev, y_dev, 5e1)\n",
        "f = lambda w: softmax_loss_naive(w, X_dev, y_dev, 5e1)[0]\n",
        "grad_numerical = grad_check_sparse(f, W, grad, 10)"
      ]
    },
    {
      "cell_type": "code",
      "execution_count": 17,
      "id": "434e757f",
      "metadata": {
        "id": "434e757f",
        "colab": {
          "base_uri": "https://localhost:8080/"
        },
        "outputId": "ac904482-3eb8-456e-ddfe-e43102d5ca9f"
      },
      "outputs": [
        {
          "output_type": "stream",
          "name": "stdout",
          "text": [
            "naive loss: 2.437708e+00 computed in 0.592787s\n",
            "vectorized loss: 2.437708e+00 computed in 0.051586s\n",
            "Loss difference: 0.000000000000001776356839400250\n",
            "Gradient difference: 0.000000000000261637199775756640\n"
          ]
        }
      ],
      "source": [
        "# Now that we have a naive implementation of the softmax loss function and its gradient,\n",
        "# implement a vectorized version in softmax_loss_vectorized.\n",
        "# The two versions should compute the same results, but the vectorized version should be\n",
        "# much faster.\n",
        "tic = time.time()\n",
        "loss_naive, grad_naive = softmax_loss_naive(W, X_dev, y_dev, 0.000005)\n",
        "toc = time.time()\n",
        "print('naive loss: %e computed in %fs' % (loss_naive, toc - tic))\n",
        "\n",
        "from cs231n.classifiers.softmax import softmax_loss_vectorized\n",
        "tic = time.time()\n",
        "loss_vectorized, grad_vectorized = softmax_loss_vectorized(W, X_dev, y_dev, 0.000005)\n",
        "toc = time.time()\n",
        "print('vectorized loss: %e computed in %fs' % (loss_vectorized, toc - tic))\n",
        "\n",
        "# As we did for the SVM, we use the Frobenius norm to compare the two versions\n",
        "# of the gradient.\n",
        "grad_difference = np.linalg.norm(grad_naive - grad_vectorized, ord='fro')\n",
        "print('Loss difference: %.30f' % np.abs(loss_naive - loss_vectorized))\n",
        "print('Gradient difference: %.30f' % grad_difference)"
      ]
    },
    {
      "cell_type": "code",
      "execution_count": 22,
      "id": "2e5e374d",
      "metadata": {
        "tags": [
          "code"
        ],
        "test": "tuning",
        "id": "2e5e374d",
        "colab": {
          "base_uri": "https://localhost:8080/"
        },
        "outputId": "325b43d8-fcf6-41e7-a935-2ee571582688"
      },
      "outputs": [
        {
          "output_type": "stream",
          "name": "stdout",
          "text": [
            "iteration 0 / 1000: loss 781.621563\n",
            "iteration 100 / 1000: loss 286.805606\n",
            "iteration 200 / 1000: loss 106.316208\n",
            "iteration 300 / 1000: loss 40.271139\n",
            "iteration 400 / 1000: loss 16.002746\n",
            "iteration 500 / 1000: loss 7.224504\n",
            "iteration 600 / 1000: loss 3.917918\n",
            "iteration 700 / 1000: loss 2.733936\n",
            "iteration 800 / 1000: loss 2.410198\n",
            "iteration 900 / 1000: loss 2.146392\n"
          ]
        },
        {
          "output_type": "stream",
          "name": "stderr",
          "text": [
            "<ipython-input-22-674e451c9237>:28: DeprecationWarning: elementwise comparison failed; this will raise an error in the future.\n",
            "  acc_val = np.mean(sfm.predict(X_val)==y_val)\n",
            "<ipython-input-22-674e451c9237>:29: DeprecationWarning: elementwise comparison failed; this will raise an error in the future.\n",
            "  acc_train = np.mean(sfm.predict(X_train)==y_train)\n"
          ]
        },
        {
          "output_type": "stream",
          "name": "stdout",
          "text": [
            "iteration 0 / 1000: loss 1541.599220\n",
            "iteration 100 / 1000: loss 207.597030\n",
            "iteration 200 / 1000: loss 29.569712\n",
            "iteration 300 / 1000: loss 5.835264\n",
            "iteration 400 / 1000: loss 2.685197\n",
            "iteration 500 / 1000: loss 2.200269\n",
            "iteration 600 / 1000: loss 2.076084\n",
            "iteration 700 / 1000: loss 2.113498\n",
            "iteration 800 / 1000: loss 2.091173\n",
            "iteration 900 / 1000: loss 2.139544\n",
            "iteration 0 / 1000: loss 775.582427\n",
            "iteration 100 / 1000: loss 6.939685\n",
            "iteration 200 / 1000: loss 2.116776\n",
            "iteration 300 / 1000: loss 2.098219\n",
            "iteration 400 / 1000: loss 2.082369\n",
            "iteration 500 / 1000: loss 2.109440\n",
            "iteration 600 / 1000: loss 2.079750\n",
            "iteration 700 / 1000: loss 2.084749\n",
            "iteration 800 / 1000: loss 2.141108\n",
            "iteration 900 / 1000: loss 2.128669\n",
            "iteration 0 / 1000: loss 1538.779328\n",
            "iteration 100 / 1000: loss 2.181392\n",
            "iteration 200 / 1000: loss 2.129761\n",
            "iteration 300 / 1000: loss 2.203504\n",
            "iteration 400 / 1000: loss 2.153724\n",
            "iteration 500 / 1000: loss 2.117911\n",
            "iteration 600 / 1000: loss 2.118570\n",
            "iteration 700 / 1000: loss 2.197663\n",
            "iteration 800 / 1000: loss 2.127224\n",
            "iteration 900 / 1000: loss 2.175572\n",
            "lr 1.000000e-07 reg 2.500000e+04 train accuracy: 0.00000000000000000000000000000000000000000000000000 val accuracy: 0.00000000000000000000000000000000000000000000000000\n",
            "lr 1.000000e-07 reg 5.000000e+04 train accuracy: 0.00000000000000000000000000000000000000000000000000 val accuracy: 0.00000000000000000000000000000000000000000000000000\n",
            "lr 5.000000e-07 reg 2.500000e+04 train accuracy: 0.00000000000000000000000000000000000000000000000000 val accuracy: 0.00000000000000000000000000000000000000000000000000\n",
            "lr 5.000000e-07 reg 5.000000e+04 train accuracy: 0.00000000000000000000000000000000000000000000000000 val accuracy: 0.00000000000000000000000000000000000000000000000000\n",
            "best validation accuracy achieved during cross-validation: -1.000000\n"
          ]
        }
      ],
      "source": [
        "# Use the validation set to tune hyperparameters (regularization strength and\n",
        "# learning rate). You should experiment with different ranges for the learning\n",
        "# rates and regularization strengths; if you are careful you should be able to\n",
        "# get a classification accuracy of over 0.35 on the validation set.\n",
        "\n",
        "from cs231n.classifiers import Softmax\n",
        "results = {}\n",
        "best_val = -1\n",
        "best_softmax = None\n",
        "\n",
        "################################################################################\n",
        "# TODO:                                                                        #\n",
        "# Use the validation set to set the learning rate and regularization strength. #\n",
        "# This should be identical to the validation that you did for the SVM; save    #\n",
        "# the best trained softmax classifer in best_softmax.                          #\n",
        "################################################################################\n",
        "\n",
        "# Provided as a reference. You may or may not want to change these hyperparameters\n",
        "learning_rates = [1e-7, 5e-7]\n",
        "regularization_strengths = [2.5e4, 5e4]\n",
        "\n",
        "# *****START OF YOUR CODE (DO NOT DELETE/MODIFY THIS LINE)*****\n",
        "\n",
        "for lr in learning_rates:\n",
        "  for reg in regularization_strengths:\n",
        "    sfm = Softmax()\n",
        "    sfm.train(X_train, y_train,learning_rate=lr,reg=reg, num_iters=1000, verbose=True)\n",
        "    acc_val = np.mean(sfm.predict(X_val)==y_val)\n",
        "    acc_train = np.mean(sfm.predict(X_train)==y_train)\n",
        "    results[(lr,reg)] = (acc_train, acc_val)\n",
        "    if best_val > acc_val:\n",
        "      best_val = acc_val\n",
        "      best_softmax = sfm\n",
        "\n",
        "# *****END OF YOUR CODE (DO NOT DELETE/MODIFY THIS LINE)*****\n",
        "    \n",
        "# Print out results.\n",
        "for lr, reg in sorted(results):\n",
        "    train_accuracy, val_accuracy = results[(lr, reg)]\n",
        "    print('lr %e reg %e train accuracy: %.50f val accuracy: %.50f' % (\n",
        "                lr, reg, train_accuracy, val_accuracy))\n",
        "    \n",
        "print('best validation accuracy achieved during cross-validation: %f' % best_val)"
      ]
    },
    {
      "cell_type": "code",
      "execution_count": 23,
      "id": "deb37cc6",
      "metadata": {
        "test": "test",
        "id": "deb37cc6",
        "colab": {
          "base_uri": "https://localhost:8080/",
          "height": 246
        },
        "outputId": "da699bce-c652-4f68-894c-39b15d18e044"
      },
      "outputs": [
        {
          "output_type": "error",
          "ename": "AttributeError",
          "evalue": "ignored",
          "traceback": [
            "\u001b[0;31m---------------------------------------------------------------------------\u001b[0m",
            "\u001b[0;31mAttributeError\u001b[0m                            Traceback (most recent call last)",
            "\u001b[0;32m<ipython-input-23-0294bcc8cc87>\u001b[0m in \u001b[0;36m<module>\u001b[0;34m\u001b[0m\n\u001b[1;32m      1\u001b[0m \u001b[0;31m# evaluate on test set\u001b[0m\u001b[0;34m\u001b[0m\u001b[0;34m\u001b[0m\u001b[0;34m\u001b[0m\u001b[0m\n\u001b[1;32m      2\u001b[0m \u001b[0;31m# Evaluate the best softmax on test set\u001b[0m\u001b[0;34m\u001b[0m\u001b[0;34m\u001b[0m\u001b[0;34m\u001b[0m\u001b[0m\n\u001b[0;32m----> 3\u001b[0;31m \u001b[0my_test_pred\u001b[0m \u001b[0;34m=\u001b[0m \u001b[0mbest_softmax\u001b[0m\u001b[0;34m.\u001b[0m\u001b[0mpredict\u001b[0m\u001b[0;34m(\u001b[0m\u001b[0mX_test\u001b[0m\u001b[0;34m)\u001b[0m\u001b[0;34m\u001b[0m\u001b[0;34m\u001b[0m\u001b[0m\n\u001b[0m\u001b[1;32m      4\u001b[0m \u001b[0mtest_accuracy\u001b[0m \u001b[0;34m=\u001b[0m \u001b[0mnp\u001b[0m\u001b[0;34m.\u001b[0m\u001b[0mmean\u001b[0m\u001b[0;34m(\u001b[0m\u001b[0my_test\u001b[0m \u001b[0;34m==\u001b[0m \u001b[0my_test_pred\u001b[0m\u001b[0;34m)\u001b[0m\u001b[0;34m\u001b[0m\u001b[0;34m\u001b[0m\u001b[0m\n\u001b[1;32m      5\u001b[0m \u001b[0mprint\u001b[0m\u001b[0;34m(\u001b[0m\u001b[0;34m'softmax on raw pixels final test set accuracy: %.30f'\u001b[0m \u001b[0;34m%\u001b[0m \u001b[0;34m(\u001b[0m\u001b[0mtest_accuracy\u001b[0m\u001b[0;34m,\u001b[0m \u001b[0;34m)\u001b[0m\u001b[0;34m)\u001b[0m\u001b[0;34m\u001b[0m\u001b[0;34m\u001b[0m\u001b[0m\n",
            "\u001b[0;31mAttributeError\u001b[0m: 'NoneType' object has no attribute 'predict'"
          ]
        }
      ],
      "source": [
        "# evaluate on test set\n",
        "# Evaluate the best softmax on test set\n",
        "y_test_pred = best_softmax.predict(X_test)\n",
        "test_accuracy = np.mean(y_test == y_test_pred)\n",
        "print('softmax on raw pixels final test set accuracy: %.30f' % (test_accuracy, ))"
      ]
    },
    {
      "cell_type": "markdown",
      "id": "df501314",
      "metadata": {
        "tags": [
          "pdf-inline"
        ],
        "id": "df501314"
      },
      "source": [
        "**Inline Question 2** - *True or False*\n",
        "\n",
        "Suppose the overall training loss is defined as the sum of the per-datapoint loss over all training examples. It is possible to add a new datapoint to a training set that would leave the SVM loss unchanged, but this is not the case with the Softmax classifier loss.\n",
        "\n",
        "$\\color{blue}{\\textit Your Answer:}$\n",
        "\n",
        "\n",
        "$\\color{blue}{\\textit Your Explanation:}$\n",
        "\n"
      ]
    },
    {
      "cell_type": "code",
      "execution_count": 20,
      "id": "ade33adc",
      "metadata": {
        "id": "ade33adc",
        "colab": {
          "base_uri": "https://localhost:8080/",
          "height": 380
        },
        "outputId": "309299db-a1f2-4c28-9dd5-060c059ad626"
      },
      "outputs": [
        {
          "output_type": "display_data",
          "data": {
            "text/plain": [
              "<Figure size 720x576 with 10 Axes>"
            ],
            "image/png": "[encoded data removed]"
          },
          "metadata": {
            "needs_background": "light"
          }
        }
      ],
      "source": [
        "# Visualize the learned weights for each class\n",
        "w = best_softmax.W[:-1,:] # strip out the bias\n",
        "w = w.reshape(32, 32, 3, 10)\n",
        "\n",
        "w_min, w_max = np.min(w), np.max(w)\n",
        "\n",
        "classes = ['plane', 'car', 'bird', 'cat', 'deer', 'dog', 'frog', 'horse', 'ship', 'truck']\n",
        "for i in range(10):\n",
        "    plt.subplot(2, 5, i + 1)\n",
        "    \n",
        "    # Rescale the weights to be between 0 and 255\n",
        "    wimg = 255.0 * (w[:, :, :, i].squeeze() - w_min) / (w_max - w_min)\n",
        "    plt.imshow(wimg.astype('uint8'))\n",
        "    plt.axis('off')\n",
        "    plt.title(classes[i])"
      ]
    },
    {
      "cell_type": "code",
      "execution_count": 20,
      "id": "4d5d17f8",
      "metadata": {
        "id": "4d5d17f8"
      },
      "outputs": [],
      "source": []
    }
  ],
  "metadata": {
    "colab": {
      "provenance": []
    },
    "language_info": {
      "name": "python"
    },
    "kernelspec": {
      "name": "python3",
      "display_name": "Python 3"
    },
    "gpuClass": "standard"
  },
  "nbformat": 4,
  "nbformat_minor": 5
}